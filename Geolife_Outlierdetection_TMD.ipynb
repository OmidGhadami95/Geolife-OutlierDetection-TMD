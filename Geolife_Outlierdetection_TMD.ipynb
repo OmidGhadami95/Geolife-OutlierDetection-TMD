{
  "nbformat": 4,
  "nbformat_minor": 0,
  "metadata": {
    "colab": {
      "provenance": [],
      "authorship_tag": "ABX9TyOFSSF/HuC1aACxRgswNCKk",
      "include_colab_link": true
    },
    "kernelspec": {
      "name": "python3",
      "display_name": "Python 3"
    },
    "language_info": {
      "name": "python"
    }
  },
  "cells": [
    {
      "cell_type": "markdown",
      "metadata": {
        "id": "view-in-github",
        "colab_type": "text"
      },
      "source": [
        "<a href=\"https://colab.research.google.com/github/OmidGhadami95/Geolife-OutlierDetection-TMD/blob/main/Geolife_Outlierdetection_TMD.ipynb\" target=\"_parent\"><img src=\"https://colab.research.google.com/assets/colab-badge.svg\" alt=\"Open In Colab\"/></a>"
      ]
    },
    {
      "cell_type": "code",
      "metadata": {
        "id": "ZCSG7JvWutEo",
        "colab": {
          "base_uri": "https://localhost:8080/"
        },
        "outputId": "b948baba-a1c7-4b38-e848-da1009e0739a"
      },
      "source": [
        "from google.colab import drive\n",
        "drive.mount('/content/drive')"
      ],
      "execution_count": 1,
      "outputs": [
        {
          "output_type": "stream",
          "name": "stdout",
          "text": [
            "Mounted at /content/drive\n"
          ]
        }
      ]
    },
    {
      "cell_type": "markdown",
      "source": [
        "Notice:\n",
        "- Use IQR or z-score not both\n",
        "- Perhaps we need just one prune (acceleration or velocity. not both)\n",
        "- Tune z-score hyperparameter (threshold)\n",
        "- This part must perform before calculating aggregated features\n"
      ],
      "metadata": {
        "id": "qYz3JJfI0Fkj"
      }
    },
    {
      "cell_type": "code",
      "execution_count": null,
      "metadata": {
        "colab": {
          "base_uri": "https://localhost:8080/"
        },
        "id": "XWe0xrQt82Bn",
        "outputId": "74c1e884-e8b0-4e00-da93-4a64f23fd7c1"
      },
      "outputs": [
        {
          "output_type": "stream",
          "name": "stdout",
          "text": [
            "Looking in indexes: https://pypi.org/simple, https://us-python.pkg.dev/colab-wheels/public/simple/\n",
            "Requirement already satisfied: pyproj in /usr/local/lib/python3.7/dist-packages (3.2.1)\n",
            "Requirement already satisfied: certifi in /usr/local/lib/python3.7/dist-packages (from pyproj) (2022.9.24)\n"
          ]
        }
      ],
      "source": [
        "!pip3 install pyproj\n",
        "import pandas as pd\n",
        "import datetime as dt\n",
        "import pyproj\n",
        "import numpy as np\n",
        "import os\n",
        "from multiprocessing.pool import Pool\n",
        "import time\n",
        "from IPython.display import display, HTML\n",
        "import glob\n",
        "from sklearn.linear_model import LogisticRegression\n",
        "from sklearn.svm import SVC\n",
        "from sklearn.ensemble import RandomForestClassifier\n",
        "import sklearn\n",
        "import matplotlib.pyplot as plt\n",
        "import seaborn as sns"
      ]
    },
    {
      "cell_type": "markdown",
      "source": [
        "# **Loading Data from csv to dataframes**"
      ],
      "metadata": {
        "id": "vKVlKC4RuApn"
      }
    },
    {
      "cell_type": "code",
      "source": [
        "def clean_label(label):\n",
        "    return label.lstrip(',').rstrip(',').replace(',,', ',')\n",
        "\n",
        "INPUT_FOLDER = '/content/drive/MyDrive/processed_data/020.csv'\n",
        "headers_metadf = ['trajectory_id', 'start_time', 'end_time', 'v_ave', 'v_med', 'v_max', 'a_ave', 'a_med', 'a_max', 'labels']\n",
        "\n",
        "df = pd.read_csv(INPUT_FOLDER,index_col=0)\n",
        "df_labeled = df.dropna(subset=['acceleration','velocity','v_ave','v_med','v_max', 'a_ave', 'a_med', 'a_max', 'labels']) #!!!!!MODIFIED!!!!!\n",
        "df_labeled.loc[:,'labels'] = df_labeled['labels'].apply(lambda x: clean_label(x))"
      ],
      "metadata": {
        "colab": {
          "base_uri": "https://localhost:8080/"
        },
        "id": "wtpERYS-9AZA",
        "outputId": "dcf1501b-c67c-439b-d6d5-bfcb875e9798"
      },
      "execution_count": null,
      "outputs": [
        {
          "output_type": "stream",
          "name": "stderr",
          "text": [
            "/usr/local/lib/python3.7/dist-packages/pandas/core/indexing.py:1773: SettingWithCopyWarning: \n",
            "A value is trying to be set on a copy of a slice from a DataFrame.\n",
            "Try using .loc[row_indexer,col_indexer] = value instead\n",
            "\n",
            "See the caveats in the documentation: https://pandas.pydata.org/pandas-docs/stable/user_guide/indexing.html#returning-a-view-versus-a-copy\n",
            "  self._setitem_single_column(ilocs[0], value, pi)\n"
          ]
        }
      ]
    },
    {
      "cell_type": "code",
      "source": [
        "df_labeled.head()"
      ],
      "metadata": {
        "colab": {
          "base_uri": "https://localhost:8080/",
          "height": 444
        },
        "id": "hrnJa3XN-r16",
        "outputId": "51208595-f0c9-4106-bb62-ac8f07ce04f7"
      },
      "execution_count": null,
      "outputs": [
        {
          "output_type": "execute_result",
          "data": {
            "text/plain": [
              "         lat        long  altitude             datetime        timedelta  \\\n",
              "0  39.981590  116.327578         0  2011-11-25 01:44:22  0 days 00:00:01   \n",
              "1  39.981557  116.327582         0  2011-11-25 01:44:23  0 days 00:00:56   \n",
              "2  39.981382  116.327678         0  2011-11-25 01:45:19  0 days 00:00:01   \n",
              "3  39.980920  116.327830         0  2011-11-25 01:45:20  0 days 00:00:01   \n",
              "4  39.980923  116.327820         0  2011-11-25 01:45:21  0 days 00:00:01   \n",
              "\n",
              "    distance   velocity  acceleration   trajectory_id  subfolder labels  \\\n",
              "0   3.712078   3.712078     -3.335068  20111125014422         20   bike   \n",
              "1  21.112585   0.377010      0.937420  20111125014422         20   bike   \n",
              "2  52.872515  52.872515    -51.941601  20111125014422         20   bike   \n",
              "3   0.930914   0.930914      7.179167  20111125014422         20   bike   \n",
              "4   8.110082   8.110082     -4.270712  20111125014422         20   bike   \n",
              "\n",
              "     v_ave     v_med      v_max     a_ave     a_med      a_max  \n",
              "0  3.48697  3.187125  52.872515 -0.089624 -0.042987  13.862124  \n",
              "1  3.48697  3.187125  52.872515 -0.089624 -0.042987  13.862124  \n",
              "2  3.48697  3.187125  52.872515 -0.089624 -0.042987  13.862124  \n",
              "3  3.48697  3.187125  52.872515 -0.089624 -0.042987  13.862124  \n",
              "4  3.48697  3.187125  52.872515 -0.089624 -0.042987  13.862124  "
            ],
            "text/html": [
              "\n",
              "  <div id=\"df-3440d00e-0c2a-4c91-92da-b440f55071f8\">\n",
              "    <div class=\"colab-df-container\">\n",
              "      <div>\n",
              "<style scoped>\n",
              "    .dataframe tbody tr th:only-of-type {\n",
              "        vertical-align: middle;\n",
              "    }\n",
              "\n",
              "    .dataframe tbody tr th {\n",
              "        vertical-align: top;\n",
              "    }\n",
              "\n",
              "    .dataframe thead th {\n",
              "        text-align: right;\n",
              "    }\n",
              "</style>\n",
              "<table border=\"1\" class=\"dataframe\">\n",
              "  <thead>\n",
              "    <tr style=\"text-align: right;\">\n",
              "      <th></th>\n",
              "      <th>lat</th>\n",
              "      <th>long</th>\n",
              "      <th>altitude</th>\n",
              "      <th>datetime</th>\n",
              "      <th>timedelta</th>\n",
              "      <th>distance</th>\n",
              "      <th>velocity</th>\n",
              "      <th>acceleration</th>\n",
              "      <th>trajectory_id</th>\n",
              "      <th>subfolder</th>\n",
              "      <th>labels</th>\n",
              "      <th>v_ave</th>\n",
              "      <th>v_med</th>\n",
              "      <th>v_max</th>\n",
              "      <th>a_ave</th>\n",
              "      <th>a_med</th>\n",
              "      <th>a_max</th>\n",
              "    </tr>\n",
              "  </thead>\n",
              "  <tbody>\n",
              "    <tr>\n",
              "      <th>0</th>\n",
              "      <td>39.981590</td>\n",
              "      <td>116.327578</td>\n",
              "      <td>0</td>\n",
              "      <td>2011-11-25 01:44:22</td>\n",
              "      <td>0 days 00:00:01</td>\n",
              "      <td>3.712078</td>\n",
              "      <td>3.712078</td>\n",
              "      <td>-3.335068</td>\n",
              "      <td>20111125014422</td>\n",
              "      <td>20</td>\n",
              "      <td>bike</td>\n",
              "      <td>3.48697</td>\n",
              "      <td>3.187125</td>\n",
              "      <td>52.872515</td>\n",
              "      <td>-0.089624</td>\n",
              "      <td>-0.042987</td>\n",
              "      <td>13.862124</td>\n",
              "    </tr>\n",
              "    <tr>\n",
              "      <th>1</th>\n",
              "      <td>39.981557</td>\n",
              "      <td>116.327582</td>\n",
              "      <td>0</td>\n",
              "      <td>2011-11-25 01:44:23</td>\n",
              "      <td>0 days 00:00:56</td>\n",
              "      <td>21.112585</td>\n",
              "      <td>0.377010</td>\n",
              "      <td>0.937420</td>\n",
              "      <td>20111125014422</td>\n",
              "      <td>20</td>\n",
              "      <td>bike</td>\n",
              "      <td>3.48697</td>\n",
              "      <td>3.187125</td>\n",
              "      <td>52.872515</td>\n",
              "      <td>-0.089624</td>\n",
              "      <td>-0.042987</td>\n",
              "      <td>13.862124</td>\n",
              "    </tr>\n",
              "    <tr>\n",
              "      <th>2</th>\n",
              "      <td>39.981382</td>\n",
              "      <td>116.327678</td>\n",
              "      <td>0</td>\n",
              "      <td>2011-11-25 01:45:19</td>\n",
              "      <td>0 days 00:00:01</td>\n",
              "      <td>52.872515</td>\n",
              "      <td>52.872515</td>\n",
              "      <td>-51.941601</td>\n",
              "      <td>20111125014422</td>\n",
              "      <td>20</td>\n",
              "      <td>bike</td>\n",
              "      <td>3.48697</td>\n",
              "      <td>3.187125</td>\n",
              "      <td>52.872515</td>\n",
              "      <td>-0.089624</td>\n",
              "      <td>-0.042987</td>\n",
              "      <td>13.862124</td>\n",
              "    </tr>\n",
              "    <tr>\n",
              "      <th>3</th>\n",
              "      <td>39.980920</td>\n",
              "      <td>116.327830</td>\n",
              "      <td>0</td>\n",
              "      <td>2011-11-25 01:45:20</td>\n",
              "      <td>0 days 00:00:01</td>\n",
              "      <td>0.930914</td>\n",
              "      <td>0.930914</td>\n",
              "      <td>7.179167</td>\n",
              "      <td>20111125014422</td>\n",
              "      <td>20</td>\n",
              "      <td>bike</td>\n",
              "      <td>3.48697</td>\n",
              "      <td>3.187125</td>\n",
              "      <td>52.872515</td>\n",
              "      <td>-0.089624</td>\n",
              "      <td>-0.042987</td>\n",
              "      <td>13.862124</td>\n",
              "    </tr>\n",
              "    <tr>\n",
              "      <th>4</th>\n",
              "      <td>39.980923</td>\n",
              "      <td>116.327820</td>\n",
              "      <td>0</td>\n",
              "      <td>2011-11-25 01:45:21</td>\n",
              "      <td>0 days 00:00:01</td>\n",
              "      <td>8.110082</td>\n",
              "      <td>8.110082</td>\n",
              "      <td>-4.270712</td>\n",
              "      <td>20111125014422</td>\n",
              "      <td>20</td>\n",
              "      <td>bike</td>\n",
              "      <td>3.48697</td>\n",
              "      <td>3.187125</td>\n",
              "      <td>52.872515</td>\n",
              "      <td>-0.089624</td>\n",
              "      <td>-0.042987</td>\n",
              "      <td>13.862124</td>\n",
              "    </tr>\n",
              "  </tbody>\n",
              "</table>\n",
              "</div>\n",
              "      <button class=\"colab-df-convert\" onclick=\"convertToInteractive('df-3440d00e-0c2a-4c91-92da-b440f55071f8')\"\n",
              "              title=\"Convert this dataframe to an interactive table.\"\n",
              "              style=\"display:none;\">\n",
              "        \n",
              "  <svg xmlns=\"http://www.w3.org/2000/svg\" height=\"24px\"viewBox=\"0 0 24 24\"\n",
              "       width=\"24px\">\n",
              "    <path d=\"M0 0h24v24H0V0z\" fill=\"none\"/>\n",
              "    <path d=\"M18.56 5.44l.94 2.06.94-2.06 2.06-.94-2.06-.94-.94-2.06-.94 2.06-2.06.94zm-11 1L8.5 8.5l.94-2.06 2.06-.94-2.06-.94L8.5 2.5l-.94 2.06-2.06.94zm10 10l.94 2.06.94-2.06 2.06-.94-2.06-.94-.94-2.06-.94 2.06-2.06.94z\"/><path d=\"M17.41 7.96l-1.37-1.37c-.4-.4-.92-.59-1.43-.59-.52 0-1.04.2-1.43.59L10.3 9.45l-7.72 7.72c-.78.78-.78 2.05 0 2.83L4 21.41c.39.39.9.59 1.41.59.51 0 1.02-.2 1.41-.59l7.78-7.78 2.81-2.81c.8-.78.8-2.07 0-2.86zM5.41 20L4 18.59l7.72-7.72 1.47 1.35L5.41 20z\"/>\n",
              "  </svg>\n",
              "      </button>\n",
              "      \n",
              "  <style>\n",
              "    .colab-df-container {\n",
              "      display:flex;\n",
              "      flex-wrap:wrap;\n",
              "      gap: 12px;\n",
              "    }\n",
              "\n",
              "    .colab-df-convert {\n",
              "      background-color: #E8F0FE;\n",
              "      border: none;\n",
              "      border-radius: 50%;\n",
              "      cursor: pointer;\n",
              "      display: none;\n",
              "      fill: #1967D2;\n",
              "      height: 32px;\n",
              "      padding: 0 0 0 0;\n",
              "      width: 32px;\n",
              "    }\n",
              "\n",
              "    .colab-df-convert:hover {\n",
              "      background-color: #E2EBFA;\n",
              "      box-shadow: 0px 1px 2px rgba(60, 64, 67, 0.3), 0px 1px 3px 1px rgba(60, 64, 67, 0.15);\n",
              "      fill: #174EA6;\n",
              "    }\n",
              "\n",
              "    [theme=dark] .colab-df-convert {\n",
              "      background-color: #3B4455;\n",
              "      fill: #D2E3FC;\n",
              "    }\n",
              "\n",
              "    [theme=dark] .colab-df-convert:hover {\n",
              "      background-color: #434B5C;\n",
              "      box-shadow: 0px 1px 3px 1px rgba(0, 0, 0, 0.15);\n",
              "      filter: drop-shadow(0px 1px 2px rgba(0, 0, 0, 0.3));\n",
              "      fill: #FFFFFF;\n",
              "    }\n",
              "  </style>\n",
              "\n",
              "      <script>\n",
              "        const buttonEl =\n",
              "          document.querySelector('#df-3440d00e-0c2a-4c91-92da-b440f55071f8 button.colab-df-convert');\n",
              "        buttonEl.style.display =\n",
              "          google.colab.kernel.accessAllowed ? 'block' : 'none';\n",
              "\n",
              "        async function convertToInteractive(key) {\n",
              "          const element = document.querySelector('#df-3440d00e-0c2a-4c91-92da-b440f55071f8');\n",
              "          const dataTable =\n",
              "            await google.colab.kernel.invokeFunction('convertToInteractive',\n",
              "                                                     [key], {});\n",
              "          if (!dataTable) return;\n",
              "\n",
              "          const docLinkHtml = 'Like what you see? Visit the ' +\n",
              "            '<a target=\"_blank\" href=https://colab.research.google.com/notebooks/data_table.ipynb>data table notebook</a>'\n",
              "            + ' to learn more about interactive tables.';\n",
              "          element.innerHTML = '';\n",
              "          dataTable['output_type'] = 'display_data';\n",
              "          await google.colab.output.renderOutput(dataTable, element);\n",
              "          const docLink = document.createElement('div');\n",
              "          docLink.innerHTML = docLinkHtml;\n",
              "          element.appendChild(docLink);\n",
              "        }\n",
              "      </script>\n",
              "    </div>\n",
              "  </div>\n",
              "  "
            ]
          },
          "metadata": {},
          "execution_count": 3
        }
      ]
    },
    {
      "cell_type": "code",
      "source": [
        "before_outlier = len(df_labeled.index.unique())"
      ],
      "metadata": {
        "id": "ROwj4CBCTFdR"
      },
      "execution_count": null,
      "outputs": []
    },
    {
      "cell_type": "code",
      "source": [
        "df_labeled.labels.unique()"
      ],
      "metadata": {
        "colab": {
          "base_uri": "https://localhost:8080/"
        },
        "id": "PZgXSKyUhCSA",
        "outputId": "4412f5e0-7cd3-4c46-ac06-ac5133100f4e"
      },
      "execution_count": null,
      "outputs": [
        {
          "output_type": "execute_result",
          "data": {
            "text/plain": [
              "array(['bike', 'walk', 'bus', 'subway', 'train', 'car'], dtype=object)"
            ]
          },
          "metadata": {},
          "execution_count": 5
        }
      ]
    },
    {
      "cell_type": "code",
      "source": [
        "df_bike = df_labeled.loc[df_labeled.labels=='bike']"
      ],
      "metadata": {
        "id": "fIygFhKE-wQ-"
      },
      "execution_count": null,
      "outputs": []
    },
    {
      "cell_type": "code",
      "source": [
        "df_walk = df_labeled.loc[df_labeled.labels=='walk']"
      ],
      "metadata": {
        "id": "VJjOyCV_GElM"
      },
      "execution_count": null,
      "outputs": []
    },
    {
      "cell_type": "code",
      "source": [
        "df_bus = df_labeled.loc[df_labeled.labels=='bus']"
      ],
      "metadata": {
        "id": "bC55UPbkGEes"
      },
      "execution_count": null,
      "outputs": []
    },
    {
      "cell_type": "code",
      "source": [
        "df_subway = df_labeled.loc[df_labeled.labels=='subway']"
      ],
      "metadata": {
        "id": "FvfgOMxkGEUy"
      },
      "execution_count": null,
      "outputs": []
    },
    {
      "cell_type": "code",
      "source": [
        "df_train = df_labeled.loc[df_labeled.labels=='train']"
      ],
      "metadata": {
        "id": "G0ZoqIwkGEOD"
      },
      "execution_count": null,
      "outputs": []
    },
    {
      "cell_type": "code",
      "source": [
        "df_car = df_labeled.loc[df_labeled.labels=='car']"
      ],
      "metadata": {
        "id": "t7dnBd9Ig9a-"
      },
      "execution_count": null,
      "outputs": []
    },
    {
      "cell_type": "markdown",
      "source": [
        "## **How many samples in each class does it have?**"
      ],
      "metadata": {
        "id": "jNpdnw_pu831"
      }
    },
    {
      "cell_type": "code",
      "source": [
        "import matplotlib.pyplot as plt\n",
        "import numpy as np\n",
        "\n",
        "class_list = [\"walk\", \"bike\", \"bus\", \"car\", \"train\", \"subway\"]\n",
        "y = np.array([len(df_walk), len(df_bike), len(df_bus), len(df_car), len(df_subway), len(df_train)])\n",
        "\n",
        "plt.pie(y, labels=class_list)\n",
        "plt.show()"
      ],
      "metadata": {
        "colab": {
          "base_uri": "https://localhost:8080/",
          "height": 248
        },
        "id": "trlvxjt_G7wf",
        "outputId": "3ae06a95-4f64-4685-b3f4-3454af337a81"
      },
      "execution_count": null,
      "outputs": [
        {
          "output_type": "display_data",
          "data": {
            "text/plain": [
              "<Figure size 432x288 with 1 Axes>"
            ],
            "image/png": "[encoded data removed]"
          },
          "metadata": {}
        }
      ]
    },
    {
      "cell_type": "markdown",
      "source": [
        "# **Outlier detecting and removing for all classes on acceleration and velocity columns**"
      ],
      "metadata": {
        "id": "66Q6t_NCVtZC"
      }
    },
    {
      "cell_type": "markdown",
      "source": [
        "## **Main Functions**"
      ],
      "metadata": {
        "id": "72t6yOMtl7_z"
      }
    },
    {
      "cell_type": "code",
      "source": [
        "# IQR (Interquartile range)\n",
        "# this function delete records which are higher than Q3+1.5*IQR in a specific column (Upper bound)\n",
        "\n",
        "def IQRmethod(df, column):\n",
        "  print('your dataframe has', len(df[column]), 'records')\n",
        "  Q1 = np.percentile(df[column], 25, interpolation = 'midpoint')\n",
        "  Q3 = np.percentile(df[column], 75, interpolation = 'midpoint')\n",
        "  IQR = Q3 - Q1\n",
        "  if column == 'velocity':\n",
        "    df = df[df[column] < (Q3+1.5*IQR)]\n",
        "  elif column == 'acceleration':\n",
        "    df = df[df[column] < (Q3+1.5*IQR)]\n",
        "    df = df[df[column] > (Q1-1.5*IQR)]\n",
        "  print('your dataframe has', len(df[column]), 'records after omit upper baound for' , column)\n",
        "  return df"
      ],
      "metadata": {
        "id": "MSBb675UlzY3"
      },
      "execution_count": null,
      "outputs": []
    },
    {
      "cell_type": "code",
      "source": [
        "# z-score\n",
        "#this function delete records which are higher than +4 z-score in a specific column (threshold)\n",
        "\n",
        "def ZS(df, column, threshold):\n",
        "  print('your dataframe has', len(df[column]), 'records')\n",
        "  s = sum(df[column])\n",
        "  mean = s / len(df[column])\n",
        "  d = [(each - mean)**2 for each in df[column]]\n",
        "  sum_d = sum(d)\n",
        "  standard_deviation = (sum_d / (len(df[column]) - 1)) ** 0.5\n",
        "  z_score = [(each - mean)/standard_deviation for each in df[column]]\n",
        "  se = pd.Series(z_score)\n",
        "  #df['z_score'] = se.values\n",
        "  df.loc[:,'z_score'] = se    ##################################################????????????????????????????????????????????\n",
        "  if column == 'velocity':\n",
        "    df.drop(df[df['z_score'] >= threshold].index, inplace = True)\n",
        "  elif column == 'acceleration':\n",
        "    df.drop(df[df['z_score'] >= threshold].index, inplace = True)\n",
        "    df.drop(df[df['z_score'] <= -threshold].index, inplace = True)\n",
        "  df = df.drop(['z_score'], axis=1)\n",
        "  print('your dataframe has', len(df[column]), 'records after omit upper baound for' , column)\n",
        "  return df"
      ],
      "metadata": {
        "id": "RY3Nfhm4mcLA"
      },
      "execution_count": null,
      "outputs": []
    },
    {
      "cell_type": "markdown",
      "source": [
        "## **1- walk**"
      ],
      "metadata": {
        "id": "peFJBjfQoAV8"
      }
    },
    {
      "cell_type": "markdown",
      "source": [
        "### **1-A) box plot before omit outliers**"
      ],
      "metadata": {
        "id": "NPEVgrMOpvHH"
      }
    },
    {
      "cell_type": "code",
      "source": [
        "# velocity\n",
        "\n",
        "sns.boxplot(df_walk['velocity'])"
      ],
      "metadata": {
        "colab": {
          "base_uri": "https://localhost:8080/",
          "height": 351
        },
        "id": "KM2TzIGNDVwA",
        "outputId": "b34395a9-be46-4415-ae77-504ec6c8e2cb"
      },
      "execution_count": null,
      "outputs": [
        {
          "output_type": "stream",
          "name": "stderr",
          "text": [
            "/usr/local/lib/python3.7/dist-packages/seaborn/_decorators.py:43: FutureWarning: Pass the following variable as a keyword arg: x. From version 0.12, the only valid positional argument will be `data`, and passing other arguments without an explicit keyword will result in an error or misinterpretation.\n",
            "  FutureWarning\n"
          ]
        },
        {
          "output_type": "execute_result",
          "data": {
            "text/plain": [
              "<matplotlib.axes._subplots.AxesSubplot at 0x7fc439717b90>"
            ]
          },
          "metadata": {},
          "execution_count": 15
        },
        {
          "output_type": "display_data",
          "data": {
            "text/plain": [
              "<Figure size 432x288 with 1 Axes>"
            ],
            "image/png": "[encoded data removed]"
          },
          "metadata": {
            "needs_background": "light"
          }
        }
      ]
    },
    {
      "cell_type": "code",
      "source": [
        "#acceleration\n",
        "\n",
        "sns.boxplot(df_walk['acceleration'])"
      ],
      "metadata": {
        "colab": {
          "base_uri": "https://localhost:8080/",
          "height": 351
        },
        "id": "N7Ud_KQ7pQIC",
        "outputId": "02f0b295-46a8-4460-d9ff-b501ff7576d2"
      },
      "execution_count": null,
      "outputs": [
        {
          "output_type": "stream",
          "name": "stderr",
          "text": [
            "/usr/local/lib/python3.7/dist-packages/seaborn/_decorators.py:43: FutureWarning: Pass the following variable as a keyword arg: x. From version 0.12, the only valid positional argument will be `data`, and passing other arguments without an explicit keyword will result in an error or misinterpretation.\n",
            "  FutureWarning\n"
          ]
        },
        {
          "output_type": "execute_result",
          "data": {
            "text/plain": [
              "<matplotlib.axes._subplots.AxesSubplot at 0x7fc43918a2d0>"
            ]
          },
          "metadata": {},
          "execution_count": 16
        },
        {
          "output_type": "display_data",
          "data": {
            "text/plain": [
              "<Figure size 432x288 with 1 Axes>"
            ],
            "image/png": "[encoded data removed]"
          },
          "metadata": {
            "needs_background": "light"
          }
        }
      ]
    },
    {
      "cell_type": "markdown",
      "source": [
        "### **1-B) IQR**"
      ],
      "metadata": {
        "id": "VVzBOqiIp6ZH"
      }
    },
    {
      "cell_type": "code",
      "source": [
        "df_walk = IQRmethod(df_walk,'velocity')\n",
        "df_walk = IQRmethod(df_walk,'acceleration')"
      ],
      "metadata": {
        "colab": {
          "base_uri": "https://localhost:8080/"
        },
        "id": "Sp0dUyzJePrD",
        "outputId": "809a0a99-df8e-43a4-ecde-818e4da55e50"
      },
      "execution_count": null,
      "outputs": [
        {
          "output_type": "stream",
          "name": "stdout",
          "text": [
            "your dataframe has 52098 records\n",
            "your dataframe has 48503 records after omit upper baound for velocity\n",
            "your dataframe has 48503 records\n",
            "your dataframe has 43342 records after omit upper baound for acceleration\n"
          ]
        }
      ]
    },
    {
      "cell_type": "markdown",
      "source": [
        "### **1-C) z-score**"
      ],
      "metadata": {
        "id": "WOkfb5G6reo0"
      }
    },
    {
      "cell_type": "code",
      "source": [
        "df_walk = ZS(df_walk,'velocity',3)\n",
        "df_walk = ZS(df_walk,'acceleration',3)"
      ],
      "metadata": {
        "colab": {
          "base_uri": "https://localhost:8080/"
        },
        "id": "4Wef9c1wrdoz",
        "outputId": "9f518739-930b-4a5e-b11e-545ee19f9eb8"
      },
      "execution_count": null,
      "outputs": [
        {
          "output_type": "stream",
          "name": "stdout",
          "text": [
            "your dataframe has 43342 records\n",
            "your dataframe has 43148 records after omit upper baound for velocity\n",
            "your dataframe has 43148 records\n",
            "your dataframe has 43148 records after omit upper baound for acceleration\n"
          ]
        }
      ]
    },
    {
      "cell_type": "markdown",
      "source": [
        "### **1-D) box plot after omit outliers**\n"
      ],
      "metadata": {
        "id": "fDmN6JI1r6nT"
      }
    },
    {
      "cell_type": "code",
      "source": [
        "# velocity\n",
        "\n",
        "sns.boxplot(df_walk['velocity'])"
      ],
      "metadata": {
        "colab": {
          "base_uri": "https://localhost:8080/",
          "height": 351
        },
        "id": "XzfJYgAJsPP6",
        "outputId": "9699325c-1ea0-4d29-d533-8ff386830b44"
      },
      "execution_count": null,
      "outputs": [
        {
          "output_type": "stream",
          "name": "stderr",
          "text": [
            "/usr/local/lib/python3.7/dist-packages/seaborn/_decorators.py:43: FutureWarning: Pass the following variable as a keyword arg: x. From version 0.12, the only valid positional argument will be `data`, and passing other arguments without an explicit keyword will result in an error or misinterpretation.\n",
            "  FutureWarning\n"
          ]
        },
        {
          "output_type": "execute_result",
          "data": {
            "text/plain": [
              "<matplotlib.axes._subplots.AxesSubplot at 0x7fc43911b2d0>"
            ]
          },
          "metadata": {},
          "execution_count": 19
        },
        {
          "output_type": "display_data",
          "data": {
            "text/plain": [
              "<Figure size 432x288 with 1 Axes>"
            ],
            "image/png": "[encoded data removed]"
          },
          "metadata": {
            "needs_background": "light"
          }
        }
      ]
    },
    {
      "cell_type": "code",
      "source": [
        "#acceleration\n",
        "\n",
        "sns.boxplot(df_walk['acceleration'])"
      ],
      "metadata": {
        "colab": {
          "base_uri": "https://localhost:8080/",
          "height": 351
        },
        "id": "RUJlzCOGsSic",
        "outputId": "fd8a6781-dd33-4500-b2ae-55e1bb371172"
      },
      "execution_count": null,
      "outputs": [
        {
          "output_type": "stream",
          "name": "stderr",
          "text": [
            "/usr/local/lib/python3.7/dist-packages/seaborn/_decorators.py:43: FutureWarning: Pass the following variable as a keyword arg: x. From version 0.12, the only valid positional argument will be `data`, and passing other arguments without an explicit keyword will result in an error or misinterpretation.\n",
            "  FutureWarning\n"
          ]
        },
        {
          "output_type": "execute_result",
          "data": {
            "text/plain": [
              "<matplotlib.axes._subplots.AxesSubplot at 0x7fc43adb4750>"
            ]
          },
          "metadata": {},
          "execution_count": 20
        },
        {
          "output_type": "display_data",
          "data": {
            "text/plain": [
              "<Figure size 432x288 with 1 Axes>"
            ],
            "image/png": "[encoded data removed]"
          },
          "metadata": {
            "needs_background": "light"
          }
        }
      ]
    },
    {
      "cell_type": "markdown",
      "source": [
        "## **2) bike**"
      ],
      "metadata": {
        "id": "DFu6ORBdsyKJ"
      }
    },
    {
      "cell_type": "markdown",
      "source": [
        "### **2-A) box plot before omit outliers**"
      ],
      "metadata": {
        "id": "tILHGb58s7IV"
      }
    },
    {
      "cell_type": "code",
      "source": [
        "# velocity\n",
        "\n",
        "sns.boxplot(df_bike['velocity'])"
      ],
      "metadata": {
        "colab": {
          "base_uri": "https://localhost:8080/",
          "height": 351
        },
        "id": "Fuvu-bE2s8xa",
        "outputId": "97c7c5ce-c074-48b8-a17f-aff905439a0a"
      },
      "execution_count": null,
      "outputs": [
        {
          "output_type": "stream",
          "name": "stderr",
          "text": [
            "/usr/local/lib/python3.7/dist-packages/seaborn/_decorators.py:43: FutureWarning: Pass the following variable as a keyword arg: x. From version 0.12, the only valid positional argument will be `data`, and passing other arguments without an explicit keyword will result in an error or misinterpretation.\n",
            "  FutureWarning\n"
          ]
        },
        {
          "output_type": "execute_result",
          "data": {
            "text/plain": [
              "<matplotlib.axes._subplots.AxesSubplot at 0x7fc439016f50>"
            ]
          },
          "metadata": {},
          "execution_count": 21
        },
        {
          "output_type": "display_data",
          "data": {
            "text/plain": [
              "<Figure size 432x288 with 1 Axes>"
            ],
            "image/png": "[encoded data removed]"
          },
          "metadata": {
            "needs_background": "light"
          }
        }
      ]
    },
    {
      "cell_type": "code",
      "source": [
        "#acceleration\n",
        "\n",
        "sns.boxplot(df_bike['acceleration'])"
      ],
      "metadata": {
        "colab": {
          "base_uri": "https://localhost:8080/",
          "height": 351
        },
        "id": "8jqoJwvWs8u2",
        "outputId": "28d95727-ab9c-4ad3-c339-2df1a35f3335"
      },
      "execution_count": null,
      "outputs": [
        {
          "output_type": "stream",
          "name": "stderr",
          "text": [
            "/usr/local/lib/python3.7/dist-packages/seaborn/_decorators.py:43: FutureWarning: Pass the following variable as a keyword arg: x. From version 0.12, the only valid positional argument will be `data`, and passing other arguments without an explicit keyword will result in an error or misinterpretation.\n",
            "  FutureWarning\n"
          ]
        },
        {
          "output_type": "execute_result",
          "data": {
            "text/plain": [
              "<matplotlib.axes._subplots.AxesSubplot at 0x7fc4390d9c10>"
            ]
          },
          "metadata": {},
          "execution_count": 22
        },
        {
          "output_type": "display_data",
          "data": {
            "text/plain": [
              "<Figure size 432x288 with 1 Axes>"
            ],
            "image/png": "[encoded data removed]"
          },
          "metadata": {
            "needs_background": "light"
          }
        }
      ]
    },
    {
      "cell_type": "markdown",
      "source": [
        "### **2-B) IQR**"
      ],
      "metadata": {
        "id": "qnw3HBU5tHoV"
      }
    },
    {
      "cell_type": "code",
      "source": [
        "df_bike = IQRmethod(df_bike,'velocity')\n",
        "df_bike = IQRmethod(df_bike,'acceleration')"
      ],
      "metadata": {
        "colab": {
          "base_uri": "https://localhost:8080/"
        },
        "id": "GaCqaKuXs8sP",
        "outputId": "3c052e91-a6ce-43c7-a191-dc5074af2993"
      },
      "execution_count": null,
      "outputs": [
        {
          "output_type": "stream",
          "name": "stdout",
          "text": [
            "your dataframe has 63622 records\n",
            "your dataframe has 60915 records after omit upper baound for velocity\n",
            "your dataframe has 60915 records\n",
            "your dataframe has 54355 records after omit upper baound for acceleration\n"
          ]
        }
      ]
    },
    {
      "cell_type": "markdown",
      "source": [
        "### **2-C) z-score**"
      ],
      "metadata": {
        "id": "Dt1B51cQtMWx"
      }
    },
    {
      "cell_type": "code",
      "source": [
        "df_bike = ZS(df_bike,'velocity',3)\n",
        "df_bike = ZS(df_bike,'acceleration',3)"
      ],
      "metadata": {
        "colab": {
          "base_uri": "https://localhost:8080/"
        },
        "id": "oJke5Utxs8od",
        "outputId": "88e44992-8bf6-4c51-e7b3-f9ed7a5e24d9"
      },
      "execution_count": null,
      "outputs": [
        {
          "output_type": "stream",
          "name": "stdout",
          "text": [
            "your dataframe has 54355 records\n",
            "your dataframe has 54355 records after omit upper baound for velocity\n",
            "your dataframe has 54355 records\n",
            "your dataframe has 54355 records after omit upper baound for acceleration\n"
          ]
        }
      ]
    },
    {
      "cell_type": "markdown",
      "source": [
        "### **2-D) box plot after omit outliers**\n",
        "\n",
        "\n"
      ],
      "metadata": {
        "id": "tL91CY8vtckX"
      }
    },
    {
      "cell_type": "code",
      "source": [
        "# velocity\n",
        "\n",
        "sns.boxplot(df_bike['velocity'])"
      ],
      "metadata": {
        "colab": {
          "base_uri": "https://localhost:8080/",
          "height": 351
        },
        "id": "XB_UhvLYthbJ",
        "outputId": "fccffa05-2b64-443a-eeed-a7d2a095d522"
      },
      "execution_count": null,
      "outputs": [
        {
          "output_type": "stream",
          "name": "stderr",
          "text": [
            "/usr/local/lib/python3.7/dist-packages/seaborn/_decorators.py:43: FutureWarning: Pass the following variable as a keyword arg: x. From version 0.12, the only valid positional argument will be `data`, and passing other arguments without an explicit keyword will result in an error or misinterpretation.\n",
            "  FutureWarning\n"
          ]
        },
        {
          "output_type": "execute_result",
          "data": {
            "text/plain": [
              "<matplotlib.axes._subplots.AxesSubplot at 0x7fc43906b290>"
            ]
          },
          "metadata": {},
          "execution_count": 25
        },
        {
          "output_type": "display_data",
          "data": {
            "text/plain": [
              "<Figure size 432x288 with 1 Axes>"
            ],
            "image/png": "[encoded data removed]"
          },
          "metadata": {
            "needs_background": "light"
          }
        }
      ]
    },
    {
      "cell_type": "code",
      "source": [
        "#acceleration\n",
        "\n",
        "sns.boxplot(df_bike['acceleration'])"
      ],
      "metadata": {
        "colab": {
          "base_uri": "https://localhost:8080/",
          "height": 351
        },
        "id": "rGUNqNbbthVn",
        "outputId": "d27ad63f-987c-47ef-9eea-524c5696625c"
      },
      "execution_count": null,
      "outputs": [
        {
          "output_type": "stream",
          "name": "stderr",
          "text": [
            "/usr/local/lib/python3.7/dist-packages/seaborn/_decorators.py:43: FutureWarning: Pass the following variable as a keyword arg: x. From version 0.12, the only valid positional argument will be `data`, and passing other arguments without an explicit keyword will result in an error or misinterpretation.\n",
            "  FutureWarning\n"
          ]
        },
        {
          "output_type": "execute_result",
          "data": {
            "text/plain": [
              "<matplotlib.axes._subplots.AxesSubplot at 0x7fc439054850>"
            ]
          },
          "metadata": {},
          "execution_count": 26
        },
        {
          "output_type": "display_data",
          "data": {
            "text/plain": [
              "<Figure size 432x288 with 1 Axes>"
            ],
            "image/png": "[encoded data removed]"
          },
          "metadata": {
            "needs_background": "light"
          }
        }
      ]
    },
    {
      "cell_type": "markdown",
      "source": [
        "## **3) bus**"
      ],
      "metadata": {
        "id": "NYdIPrumtpNr"
      }
    },
    {
      "cell_type": "markdown",
      "source": [
        "### **3-A) box plot before omit outliers**"
      ],
      "metadata": {
        "id": "qT_WuZzqdmYt"
      }
    },
    {
      "cell_type": "code",
      "source": [
        "# velocity\n",
        "\n",
        "sns.boxplot(df_bus['velocity'])"
      ],
      "metadata": {
        "id": "Vz2_HbUJtohy",
        "colab": {
          "base_uri": "https://localhost:8080/",
          "height": 351
        },
        "outputId": "b900b0d8-abcd-4e4e-d309-96ecdfa9bf2c"
      },
      "execution_count": null,
      "outputs": [
        {
          "output_type": "stream",
          "name": "stderr",
          "text": [
            "/usr/local/lib/python3.7/dist-packages/seaborn/_decorators.py:43: FutureWarning: Pass the following variable as a keyword arg: x. From version 0.12, the only valid positional argument will be `data`, and passing other arguments without an explicit keyword will result in an error or misinterpretation.\n",
            "  FutureWarning\n"
          ]
        },
        {
          "output_type": "execute_result",
          "data": {
            "text/plain": [
              "<matplotlib.axes._subplots.AxesSubplot at 0x7fc438c52450>"
            ]
          },
          "metadata": {},
          "execution_count": 27
        },
        {
          "output_type": "display_data",
          "data": {
            "text/plain": [
              "<Figure size 432x288 with 1 Axes>"
            ],
            "image/png": "[encoded data removed]"
          },
          "metadata": {
            "needs_background": "light"
          }
        }
      ]
    },
    {
      "cell_type": "code",
      "source": [
        "# acceleration\n",
        "\n",
        "sns.boxplot(df_bus['acceleration'])"
      ],
      "metadata": {
        "id": "q7uhHJ4YtofH",
        "colab": {
          "base_uri": "https://localhost:8080/",
          "height": 351
        },
        "outputId": "2045ab5e-fd64-4f04-d528-a378b913ce43"
      },
      "execution_count": null,
      "outputs": [
        {
          "output_type": "stream",
          "name": "stderr",
          "text": [
            "/usr/local/lib/python3.7/dist-packages/seaborn/_decorators.py:43: FutureWarning: Pass the following variable as a keyword arg: x. From version 0.12, the only valid positional argument will be `data`, and passing other arguments without an explicit keyword will result in an error or misinterpretation.\n",
            "  FutureWarning\n"
          ]
        },
        {
          "output_type": "execute_result",
          "data": {
            "text/plain": [
              "<matplotlib.axes._subplots.AxesSubplot at 0x7fc43906f710>"
            ]
          },
          "metadata": {},
          "execution_count": 28
        },
        {
          "output_type": "display_data",
          "data": {
            "text/plain": [
              "<Figure size 432x288 with 1 Axes>"
            ],
            "image/png": "[encoded data removed]"
          },
          "metadata": {
            "needs_background": "light"
          }
        }
      ]
    },
    {
      "cell_type": "markdown",
      "source": [
        "### **3-B) IQR**"
      ],
      "metadata": {
        "id": "n_-p97vPeKSP"
      }
    },
    {
      "cell_type": "code",
      "source": [
        "df_bus = IQRmethod(df_bus,'velocity')\n",
        "df_bus = IQRmethod(df_bus,'acceleration')"
      ],
      "metadata": {
        "id": "HpplXp4Gtwgl",
        "colab": {
          "base_uri": "https://localhost:8080/"
        },
        "outputId": "d627f135-02f2-4fc7-900a-820ce6441b54"
      },
      "execution_count": null,
      "outputs": [
        {
          "output_type": "stream",
          "name": "stdout",
          "text": [
            "your dataframe has 16639 records\n",
            "your dataframe has 16583 records after omit upper baound for velocity\n",
            "your dataframe has 16583 records\n",
            "your dataframe has 14804 records after omit upper baound for acceleration\n"
          ]
        }
      ]
    },
    {
      "cell_type": "markdown",
      "source": [
        "### **3-C) z-score**"
      ],
      "metadata": {
        "id": "2XKJn0AoenFf"
      }
    },
    {
      "cell_type": "code",
      "source": [
        "df_bus = ZS(df_bus,'velocity',4)\n",
        "df_bus = ZS(df_bus,'acceleration',4)"
      ],
      "metadata": {
        "id": "PQbYg2nItwd-",
        "colab": {
          "base_uri": "https://localhost:8080/"
        },
        "outputId": "860ea938-d49f-4d02-c06b-ca90971eb930"
      },
      "execution_count": null,
      "outputs": [
        {
          "output_type": "stream",
          "name": "stdout",
          "text": [
            "your dataframe has 14804 records\n",
            "your dataframe has 14804 records after omit upper baound for velocity\n",
            "your dataframe has 14804 records\n",
            "your dataframe has 14804 records after omit upper baound for acceleration\n"
          ]
        }
      ]
    },
    {
      "cell_type": "markdown",
      "source": [
        "### **3-D) box plot after omit outliers**"
      ],
      "metadata": {
        "id": "BNKDXZGVel5l"
      }
    },
    {
      "cell_type": "code",
      "source": [
        "# velocity\n",
        "\n",
        "sns.boxplot(df_bus['velocity'])"
      ],
      "metadata": {
        "colab": {
          "base_uri": "https://localhost:8080/",
          "height": 351
        },
        "id": "8ldWHaNnegZx",
        "outputId": "f957068b-789c-489d-b324-138692ff8911"
      },
      "execution_count": null,
      "outputs": [
        {
          "output_type": "stream",
          "name": "stderr",
          "text": [
            "/usr/local/lib/python3.7/dist-packages/seaborn/_decorators.py:43: FutureWarning: Pass the following variable as a keyword arg: x. From version 0.12, the only valid positional argument will be `data`, and passing other arguments without an explicit keyword will result in an error or misinterpretation.\n",
            "  FutureWarning\n"
          ]
        },
        {
          "output_type": "execute_result",
          "data": {
            "text/plain": [
              "<matplotlib.axes._subplots.AxesSubplot at 0x7fc439738e10>"
            ]
          },
          "metadata": {},
          "execution_count": 31
        },
        {
          "output_type": "display_data",
          "data": {
            "text/plain": [
              "<Figure size 432x288 with 1 Axes>"
            ],
            "image/png": "[encoded data removed]"
          },
          "metadata": {
            "needs_background": "light"
          }
        }
      ]
    },
    {
      "cell_type": "code",
      "source": [
        "#acceleration\n",
        "\n",
        "sns.boxplot(df_bus['acceleration'])"
      ],
      "metadata": {
        "id": "DnIb_Kr4txSw",
        "colab": {
          "base_uri": "https://localhost:8080/",
          "height": 351
        },
        "outputId": "84cc118a-2b4e-4cac-dcce-db18455222c3"
      },
      "execution_count": null,
      "outputs": [
        {
          "output_type": "stream",
          "name": "stderr",
          "text": [
            "/usr/local/lib/python3.7/dist-packages/seaborn/_decorators.py:43: FutureWarning: Pass the following variable as a keyword arg: x. From version 0.12, the only valid positional argument will be `data`, and passing other arguments without an explicit keyword will result in an error or misinterpretation.\n",
            "  FutureWarning\n"
          ]
        },
        {
          "output_type": "execute_result",
          "data": {
            "text/plain": [
              "<matplotlib.axes._subplots.AxesSubplot at 0x7fc4428936d0>"
            ]
          },
          "metadata": {},
          "execution_count": 32
        },
        {
          "output_type": "display_data",
          "data": {
            "text/plain": [
              "<Figure size 432x288 with 1 Axes>"
            ],
            "image/png": "[encoded data removed]"
          },
          "metadata": {
            "needs_background": "light"
          }
        }
      ]
    },
    {
      "cell_type": "markdown",
      "source": [
        "## **4- subway**"
      ],
      "metadata": {
        "id": "UBLjYhHmfBrj"
      }
    },
    {
      "cell_type": "markdown",
      "source": [
        "### **4-A) box plot before omit outliers**"
      ],
      "metadata": {
        "id": "lin0lKkufO74"
      }
    },
    {
      "cell_type": "code",
      "source": [
        "# velocity\n",
        "\n",
        "sns.boxplot(df_subway['velocity'])"
      ],
      "metadata": {
        "colab": {
          "base_uri": "https://localhost:8080/",
          "height": 351
        },
        "id": "emwo25FogLOc",
        "outputId": "678c7663-5c02-42d9-8f1d-aa20e3de5e82"
      },
      "execution_count": null,
      "outputs": [
        {
          "output_type": "stream",
          "name": "stderr",
          "text": [
            "/usr/local/lib/python3.7/dist-packages/seaborn/_decorators.py:43: FutureWarning: Pass the following variable as a keyword arg: x. From version 0.12, the only valid positional argument will be `data`, and passing other arguments without an explicit keyword will result in an error or misinterpretation.\n",
            "  FutureWarning\n"
          ]
        },
        {
          "output_type": "execute_result",
          "data": {
            "text/plain": [
              "<matplotlib.axes._subplots.AxesSubplot at 0x7fc4576e6c90>"
            ]
          },
          "metadata": {},
          "execution_count": 33
        },
        {
          "output_type": "display_data",
          "data": {
            "text/plain": [
              "<Figure size 432x288 with 1 Axes>"
            ],
            "image/png": "[encoded data removed]"
          },
          "metadata": {
            "needs_background": "light"
          }
        }
      ]
    },
    {
      "cell_type": "code",
      "source": [
        "# acceleration\n",
        "\n",
        "sns.boxplot(df_subway['acceleration'])"
      ],
      "metadata": {
        "colab": {
          "base_uri": "https://localhost:8080/",
          "height": 351
        },
        "id": "eq1exqQkgL7c",
        "outputId": "478c48eb-5a9b-46ef-a25f-bbcc6e65553f"
      },
      "execution_count": null,
      "outputs": [
        {
          "output_type": "stream",
          "name": "stderr",
          "text": [
            "/usr/local/lib/python3.7/dist-packages/seaborn/_decorators.py:43: FutureWarning: Pass the following variable as a keyword arg: x. From version 0.12, the only valid positional argument will be `data`, and passing other arguments without an explicit keyword will result in an error or misinterpretation.\n",
            "  FutureWarning\n"
          ]
        },
        {
          "output_type": "execute_result",
          "data": {
            "text/plain": [
              "<matplotlib.axes._subplots.AxesSubplot at 0x7fc438dd64d0>"
            ]
          },
          "metadata": {},
          "execution_count": 34
        },
        {
          "output_type": "display_data",
          "data": {
            "text/plain": [
              "<Figure size 432x288 with 1 Axes>"
            ],
            "image/png": "[encoded data removed]"
          },
          "metadata": {
            "needs_background": "light"
          }
        }
      ]
    },
    {
      "cell_type": "markdown",
      "source": [
        "### **4-B) IQR**"
      ],
      "metadata": {
        "id": "_XnRpgcBfjV-"
      }
    },
    {
      "cell_type": "code",
      "source": [
        "df_subway = IQRmethod(df_subway,'velocity')\n",
        "df_subway = IQRmethod(df_subway,'acceleration')"
      ],
      "metadata": {
        "colab": {
          "base_uri": "https://localhost:8080/"
        },
        "id": "Gdvhx2hCi15i",
        "outputId": "a78d741f-6281-4f98-c253-615f0a28e5fd"
      },
      "execution_count": null,
      "outputs": [
        {
          "output_type": "stream",
          "name": "stdout",
          "text": [
            "your dataframe has 575 records\n",
            "your dataframe has 575 records after omit upper baound for velocity\n",
            "your dataframe has 575 records\n",
            "your dataframe has 530 records after omit upper baound for acceleration\n"
          ]
        }
      ]
    },
    {
      "cell_type": "markdown",
      "source": [
        "### **4-C) z-score**"
      ],
      "metadata": {
        "id": "BSoFjviEfv3E"
      }
    },
    {
      "cell_type": "code",
      "source": [
        "df_subway = ZS(df_subway,'velocity',3)\n",
        "df_subway = ZS(df_subway,'acceleration',3)"
      ],
      "metadata": {
        "colab": {
          "base_uri": "https://localhost:8080/"
        },
        "id": "o9vE_OqZjWiR",
        "outputId": "236709d4-c891-4841-dc54-93cbe3f04d41"
      },
      "execution_count": null,
      "outputs": [
        {
          "output_type": "stream",
          "name": "stdout",
          "text": [
            "your dataframe has 530 records\n",
            "your dataframe has 530 records after omit upper baound for velocity\n",
            "your dataframe has 530 records\n",
            "your dataframe has 530 records after omit upper baound for acceleration\n"
          ]
        }
      ]
    },
    {
      "cell_type": "markdown",
      "source": [
        "### **4-D) box plot after omit outliers**"
      ],
      "metadata": {
        "id": "vlLtaJwOf3nq"
      }
    },
    {
      "cell_type": "code",
      "source": [
        "# velocity\n",
        "\n",
        "sns.boxplot(df_subway['velocity'])"
      ],
      "metadata": {
        "colab": {
          "base_uri": "https://localhost:8080/",
          "height": 351
        },
        "id": "F376Z0BIl5v-",
        "outputId": "f7e41d87-403f-44ed-c187-06c2a175a078"
      },
      "execution_count": null,
      "outputs": [
        {
          "output_type": "stream",
          "name": "stderr",
          "text": [
            "/usr/local/lib/python3.7/dist-packages/seaborn/_decorators.py:43: FutureWarning: Pass the following variable as a keyword arg: x. From version 0.12, the only valid positional argument will be `data`, and passing other arguments without an explicit keyword will result in an error or misinterpretation.\n",
            "  FutureWarning\n"
          ]
        },
        {
          "output_type": "execute_result",
          "data": {
            "text/plain": [
              "<matplotlib.axes._subplots.AxesSubplot at 0x7fc438d25990>"
            ]
          },
          "metadata": {},
          "execution_count": 37
        },
        {
          "output_type": "display_data",
          "data": {
            "text/plain": [
              "<Figure size 432x288 with 1 Axes>"
            ],
            "image/png": "[encoded data removed]"
          },
          "metadata": {
            "needs_background": "light"
          }
        }
      ]
    },
    {
      "cell_type": "code",
      "source": [
        "# acceleration\n",
        "\n",
        "sns.boxplot(df_subway['acceleration'])"
      ],
      "metadata": {
        "colab": {
          "base_uri": "https://localhost:8080/",
          "height": 351
        },
        "id": "baiJR5eMl5v-",
        "outputId": "974bea39-5d4d-430f-d8f6-5ac4b938a752"
      },
      "execution_count": null,
      "outputs": [
        {
          "output_type": "stream",
          "name": "stderr",
          "text": [
            "/usr/local/lib/python3.7/dist-packages/seaborn/_decorators.py:43: FutureWarning: Pass the following variable as a keyword arg: x. From version 0.12, the only valid positional argument will be `data`, and passing other arguments without an explicit keyword will result in an error or misinterpretation.\n",
            "  FutureWarning\n"
          ]
        },
        {
          "output_type": "execute_result",
          "data": {
            "text/plain": [
              "<matplotlib.axes._subplots.AxesSubplot at 0x7fc438c79f50>"
            ]
          },
          "metadata": {},
          "execution_count": 38
        },
        {
          "output_type": "display_data",
          "data": {
            "text/plain": [
              "<Figure size 432x288 with 1 Axes>"
            ],
            "image/png": "[encoded data removed]"
          },
          "metadata": {
            "needs_background": "light"
          }
        }
      ]
    },
    {
      "cell_type": "markdown",
      "source": [
        "## **5- train**"
      ],
      "metadata": {
        "id": "fuytFlpFfKYY"
      }
    },
    {
      "cell_type": "markdown",
      "source": [
        "### **5-A) box plot before omit outliers**"
      ],
      "metadata": {
        "id": "QPMVtGzCfSlc"
      }
    },
    {
      "cell_type": "code",
      "source": [
        "# velocity\n",
        "\n",
        "sns.boxplot(df_train['velocity'])"
      ],
      "metadata": {
        "colab": {
          "base_uri": "https://localhost:8080/",
          "height": 351
        },
        "id": "VGYtopRlgXRJ",
        "outputId": "f59a7d6c-52f1-4f79-cc45-7501d841d28c"
      },
      "execution_count": null,
      "outputs": [
        {
          "output_type": "stream",
          "name": "stderr",
          "text": [
            "/usr/local/lib/python3.7/dist-packages/seaborn/_decorators.py:43: FutureWarning: Pass the following variable as a keyword arg: x. From version 0.12, the only valid positional argument will be `data`, and passing other arguments without an explicit keyword will result in an error or misinterpretation.\n",
            "  FutureWarning\n"
          ]
        },
        {
          "output_type": "execute_result",
          "data": {
            "text/plain": [
              "<matplotlib.axes._subplots.AxesSubplot at 0x7fc438ba2c10>"
            ]
          },
          "metadata": {},
          "execution_count": 39
        },
        {
          "output_type": "display_data",
          "data": {
            "text/plain": [
              "<Figure size 432x288 with 1 Axes>"
            ],
            "image/png": "[encoded data removed]"
          },
          "metadata": {
            "needs_background": "light"
          }
        }
      ]
    },
    {
      "cell_type": "code",
      "source": [
        "# acceleration\n",
        "\n",
        "sns.boxplot(df_train['acceleration'])"
      ],
      "metadata": {
        "colab": {
          "base_uri": "https://localhost:8080/",
          "height": 351
        },
        "id": "6eCe15-hgXDL",
        "outputId": "2f11ffd8-38e3-4cf3-f8b8-2b295f555682"
      },
      "execution_count": null,
      "outputs": [
        {
          "output_type": "stream",
          "name": "stderr",
          "text": [
            "/usr/local/lib/python3.7/dist-packages/seaborn/_decorators.py:43: FutureWarning: Pass the following variable as a keyword arg: x. From version 0.12, the only valid positional argument will be `data`, and passing other arguments without an explicit keyword will result in an error or misinterpretation.\n",
            "  FutureWarning\n"
          ]
        },
        {
          "output_type": "execute_result",
          "data": {
            "text/plain": [
              "<matplotlib.axes._subplots.AxesSubplot at 0x7fc438b1c350>"
            ]
          },
          "metadata": {},
          "execution_count": 40
        },
        {
          "output_type": "display_data",
          "data": {
            "text/plain": [
              "<Figure size 432x288 with 1 Axes>"
            ],
            "image/png": "[encoded data removed]"
          },
          "metadata": {
            "needs_background": "light"
          }
        }
      ]
    },
    {
      "cell_type": "markdown",
      "source": [
        "### **5-B) IQR**"
      ],
      "metadata": {
        "id": "Ry9g-EhEfm3f"
      }
    },
    {
      "cell_type": "code",
      "source": [
        "df_train = IQRmethod(df_train,'velocity')\n",
        "df_train = IQRmethod(df_train,'acceleration')"
      ],
      "metadata": {
        "colab": {
          "base_uri": "https://localhost:8080/"
        },
        "id": "hqHUjecRi8Fv",
        "outputId": "0e9a45be-b93c-447d-9856-4c14ab7bbdec"
      },
      "execution_count": null,
      "outputs": [
        {
          "output_type": "stream",
          "name": "stdout",
          "text": [
            "your dataframe has 4065 records\n",
            "your dataframe has 4064 records after omit upper baound for velocity\n",
            "your dataframe has 4064 records\n",
            "your dataframe has 3794 records after omit upper baound for acceleration\n"
          ]
        }
      ]
    },
    {
      "cell_type": "markdown",
      "source": [
        "### **5-C) z-score**"
      ],
      "metadata": {
        "id": "-dI5LEPyfzcJ"
      }
    },
    {
      "cell_type": "code",
      "source": [
        "df_train = ZS(df_train,'velocity',3)\n",
        "df_train = ZS(df_train,'acceleration',3)"
      ],
      "metadata": {
        "colab": {
          "base_uri": "https://localhost:8080/"
        },
        "id": "Sr4BRKvOjfA9",
        "outputId": "054e1e44-61c3-4dd6-911d-1de1e8a0eda8"
      },
      "execution_count": null,
      "outputs": [
        {
          "output_type": "stream",
          "name": "stdout",
          "text": [
            "your dataframe has 3794 records\n",
            "your dataframe has 3794 records after omit upper baound for velocity\n",
            "your dataframe has 3794 records\n",
            "your dataframe has 3794 records after omit upper baound for acceleration\n"
          ]
        }
      ]
    },
    {
      "cell_type": "markdown",
      "source": [
        "### **5-D) box plot after omit outliers**"
      ],
      "metadata": {
        "id": "7xqfcGtOf-KD"
      }
    },
    {
      "cell_type": "code",
      "source": [
        "# velocity\n",
        "\n",
        "sns.boxplot(df_train['velocity'])"
      ],
      "metadata": {
        "colab": {
          "base_uri": "https://localhost:8080/",
          "height": 351
        },
        "id": "cs4ktDvGmFT9",
        "outputId": "ea4dd217-1aed-4314-bdb4-2091031e360b"
      },
      "execution_count": null,
      "outputs": [
        {
          "output_type": "stream",
          "name": "stderr",
          "text": [
            "/usr/local/lib/python3.7/dist-packages/seaborn/_decorators.py:43: FutureWarning: Pass the following variable as a keyword arg: x. From version 0.12, the only valid positional argument will be `data`, and passing other arguments without an explicit keyword will result in an error or misinterpretation.\n",
            "  FutureWarning\n"
          ]
        },
        {
          "output_type": "execute_result",
          "data": {
            "text/plain": [
              "<matplotlib.axes._subplots.AxesSubplot at 0x7fc438a8d150>"
            ]
          },
          "metadata": {},
          "execution_count": 43
        },
        {
          "output_type": "display_data",
          "data": {
            "text/plain": [
              "<Figure size 432x288 with 1 Axes>"
            ],
            "image/png": "[encoded data removed]"
          },
          "metadata": {
            "needs_background": "light"
          }
        }
      ]
    },
    {
      "cell_type": "code",
      "source": [
        "# acceleration\n",
        "\n",
        "sns.boxplot(df_train['acceleration'])"
      ],
      "metadata": {
        "colab": {
          "base_uri": "https://localhost:8080/",
          "height": 351
        },
        "id": "fu2EAZhamFT9",
        "outputId": "6268be55-63e3-4fac-e407-f4a785aa7d2e"
      },
      "execution_count": null,
      "outputs": [
        {
          "output_type": "stream",
          "name": "stderr",
          "text": [
            "/usr/local/lib/python3.7/dist-packages/seaborn/_decorators.py:43: FutureWarning: Pass the following variable as a keyword arg: x. From version 0.12, the only valid positional argument will be `data`, and passing other arguments without an explicit keyword will result in an error or misinterpretation.\n",
            "  FutureWarning\n"
          ]
        },
        {
          "output_type": "execute_result",
          "data": {
            "text/plain": [
              "<matplotlib.axes._subplots.AxesSubplot at 0x7fc438a11110>"
            ]
          },
          "metadata": {},
          "execution_count": 44
        },
        {
          "output_type": "display_data",
          "data": {
            "text/plain": [
              "<Figure size 432x288 with 1 Axes>"
            ],
            "image/png": "[encoded data removed]"
          },
          "metadata": {
            "needs_background": "light"
          }
        }
      ]
    },
    {
      "cell_type": "markdown",
      "source": [
        "## **6- car**"
      ],
      "metadata": {
        "id": "roCw3ATchsva"
      }
    },
    {
      "cell_type": "markdown",
      "source": [
        "### **6-A) box plot before omit outliers**"
      ],
      "metadata": {
        "id": "3qjr57CRiFtC"
      }
    },
    {
      "cell_type": "code",
      "source": [
        "# velocity\n",
        "\n",
        "sns.boxplot(df_car['velocity'])"
      ],
      "metadata": {
        "colab": {
          "base_uri": "https://localhost:8080/",
          "height": 351
        },
        "id": "djZ47Y4ciemp",
        "outputId": "5ae8c80a-e9bc-40b6-9278-d6bdd15dd3fb"
      },
      "execution_count": null,
      "outputs": [
        {
          "output_type": "stream",
          "name": "stderr",
          "text": [
            "/usr/local/lib/python3.7/dist-packages/seaborn/_decorators.py:43: FutureWarning: Pass the following variable as a keyword arg: x. From version 0.12, the only valid positional argument will be `data`, and passing other arguments without an explicit keyword will result in an error or misinterpretation.\n",
            "  FutureWarning\n"
          ]
        },
        {
          "output_type": "execute_result",
          "data": {
            "text/plain": [
              "<matplotlib.axes._subplots.AxesSubplot at 0x7fc43896e050>"
            ]
          },
          "metadata": {},
          "execution_count": 45
        },
        {
          "output_type": "display_data",
          "data": {
            "text/plain": [
              "<Figure size 432x288 with 1 Axes>"
            ],
            "image/png": "[encoded data removed]"
          },
          "metadata": {
            "needs_background": "light"
          }
        }
      ]
    },
    {
      "cell_type": "code",
      "source": [
        "# acceleration\n",
        "\n",
        "sns.boxplot(df_car['acceleration'])"
      ],
      "metadata": {
        "colab": {
          "base_uri": "https://localhost:8080/",
          "height": 351
        },
        "id": "XYdGCiHxigAu",
        "outputId": "21c94490-598b-454f-b04f-ec8c489ac96d"
      },
      "execution_count": null,
      "outputs": [
        {
          "output_type": "stream",
          "name": "stderr",
          "text": [
            "/usr/local/lib/python3.7/dist-packages/seaborn/_decorators.py:43: FutureWarning: Pass the following variable as a keyword arg: x. From version 0.12, the only valid positional argument will be `data`, and passing other arguments without an explicit keyword will result in an error or misinterpretation.\n",
            "  FutureWarning\n"
          ]
        },
        {
          "output_type": "execute_result",
          "data": {
            "text/plain": [
              "<matplotlib.axes._subplots.AxesSubplot at 0x7fc438961050>"
            ]
          },
          "metadata": {},
          "execution_count": 46
        },
        {
          "output_type": "display_data",
          "data": {
            "text/plain": [
              "<Figure size 432x288 with 1 Axes>"
            ],
            "image/png": "[encoded data removed]"
          },
          "metadata": {
            "needs_background": "light"
          }
        }
      ]
    },
    {
      "cell_type": "markdown",
      "source": [
        "### **6-B) IQR**"
      ],
      "metadata": {
        "id": "EwxcznK6iThh"
      }
    },
    {
      "cell_type": "code",
      "source": [
        "df_car = IQRmethod(df_car,'velocity')\n",
        "df_car = IQRmethod(df_car,'acceleration')"
      ],
      "metadata": {
        "colab": {
          "base_uri": "https://localhost:8080/"
        },
        "id": "wfy_TUf7jIp9",
        "outputId": "89610b47-cd9e-40da-fbb1-16cd65a8cf8f"
      },
      "execution_count": null,
      "outputs": [
        {
          "output_type": "stream",
          "name": "stdout",
          "text": [
            "your dataframe has 4211 records\n",
            "your dataframe has 4202 records after omit upper baound for velocity\n",
            "your dataframe has 4202 records\n",
            "your dataframe has 3961 records after omit upper baound for acceleration\n"
          ]
        }
      ]
    },
    {
      "cell_type": "markdown",
      "source": [
        "### **6-C) z-score**"
      ],
      "metadata": {
        "id": "sXSqgSEBiWoQ"
      }
    },
    {
      "cell_type": "code",
      "source": [
        "df_car = ZS(df_car,'velocity',3)\n",
        "df_car = ZS(df_car,'acceleration',3)"
      ],
      "metadata": {
        "colab": {
          "base_uri": "https://localhost:8080/"
        },
        "id": "Ir_CgKWCjlgp",
        "outputId": "b675fcd7-6bce-4f75-fcac-d7c54027011b"
      },
      "execution_count": null,
      "outputs": [
        {
          "output_type": "stream",
          "name": "stdout",
          "text": [
            "your dataframe has 3961 records\n",
            "your dataframe has 3961 records after omit upper baound for velocity\n",
            "your dataframe has 3961 records\n",
            "your dataframe has 3961 records after omit upper baound for acceleration\n"
          ]
        }
      ]
    },
    {
      "cell_type": "markdown",
      "source": [
        "### **6-D) box plot after omit outliers**"
      ],
      "metadata": {
        "id": "wwANCO1fiZCc"
      }
    },
    {
      "cell_type": "code",
      "source": [
        "# velocity\n",
        "\n",
        "sns.boxplot(df_car['velocity'])"
      ],
      "metadata": {
        "colab": {
          "base_uri": "https://localhost:8080/",
          "height": 351
        },
        "id": "p1_6naCOmLXJ",
        "outputId": "c144eca9-5c53-4fd6-a99a-4bd9254eb52b"
      },
      "execution_count": null,
      "outputs": [
        {
          "output_type": "stream",
          "name": "stderr",
          "text": [
            "/usr/local/lib/python3.7/dist-packages/seaborn/_decorators.py:43: FutureWarning: Pass the following variable as a keyword arg: x. From version 0.12, the only valid positional argument will be `data`, and passing other arguments without an explicit keyword will result in an error or misinterpretation.\n",
            "  FutureWarning\n"
          ]
        },
        {
          "output_type": "execute_result",
          "data": {
            "text/plain": [
              "<matplotlib.axes._subplots.AxesSubplot at 0x7fc4388ce250>"
            ]
          },
          "metadata": {},
          "execution_count": 49
        },
        {
          "output_type": "display_data",
          "data": {
            "text/plain": [
              "<Figure size 432x288 with 1 Axes>"
            ],
            "image/png": "[encoded data removed]"
          },
          "metadata": {
            "needs_background": "light"
          }
        }
      ]
    },
    {
      "cell_type": "code",
      "source": [
        "# acceleration\n",
        "\n",
        "sns.boxplot(df_car['acceleration'])"
      ],
      "metadata": {
        "colab": {
          "base_uri": "https://localhost:8080/",
          "height": 351
        },
        "id": "dou1xb3pmLXK",
        "outputId": "5b8fcd54-37b8-481f-9e45-07865dc505f5"
      },
      "execution_count": null,
      "outputs": [
        {
          "output_type": "stream",
          "name": "stderr",
          "text": [
            "/usr/local/lib/python3.7/dist-packages/seaborn/_decorators.py:43: FutureWarning: Pass the following variable as a keyword arg: x. From version 0.12, the only valid positional argument will be `data`, and passing other arguments without an explicit keyword will result in an error or misinterpretation.\n",
            "  FutureWarning\n"
          ]
        },
        {
          "output_type": "execute_result",
          "data": {
            "text/plain": [
              "<matplotlib.axes._subplots.AxesSubplot at 0x7fc438836850>"
            ]
          },
          "metadata": {},
          "execution_count": 50
        },
        {
          "output_type": "display_data",
          "data": {
            "text/plain": [
              "<Figure size 432x288 with 1 Axes>"
            ],
            "image/png": "[encoded data removed]"
          },
          "metadata": {
            "needs_background": "light"
          }
        }
      ]
    },
    {
      "cell_type": "markdown",
      "source": [
        "# **Visualization after removing outliers**"
      ],
      "metadata": {
        "id": "htthdZpby01j"
      }
    },
    {
      "cell_type": "markdown",
      "source": [
        "## **Min, Max, Mean and standard deviation for velocity and acceleration in each class**"
      ],
      "metadata": {
        "id": "HVTqyxEtzMYa"
      }
    },
    {
      "cell_type": "code",
      "source": [
        "walk_velocity_max = df_walk.velocity.max()\n",
        "walk_acceleration_max = df_walk.acceleration.max()\n",
        "walk_acceleration_min = df_walk.acceleration.min()\n",
        "walk_acceleration_mean = df_walk.acceleration.mean()\n",
        "walk_velocity_mean = df_walk.velocity.mean()\n",
        "walk_acceleration_std = df_walk.acceleration.std()\n",
        "walk_velocity_std = df_walk.velocity.std()\n",
        "\n",
        "bike_velocity_max = df_bike.velocity.max()\n",
        "bike_acceleration_max = df_bike.acceleration.max()\n",
        "bike_acceleration_min = df_bike.acceleration.min()\n",
        "bike_acceleration_mean = df_bike.acceleration.mean()\n",
        "bike_velocity_mean = df_bike.velocity.mean()\n",
        "bike_acceleration_std = df_bike.acceleration.std()\n",
        "bike_velocity_std = df_bike.velocity.std()\n",
        "\n",
        "bus_velocity_max = df_bus.velocity.max()\n",
        "bus_acceleration_max = df_bus.acceleration.max()\n",
        "bus_acceleration_min = df_bus.acceleration.min()\n",
        "bus_acceleration_mean = df_bus.acceleration.mean()\n",
        "bus_velocity_mean = df_bus.velocity.mean()\n",
        "bus_acceleration_std = df_bus.acceleration.std()\n",
        "bus_velocity_std = df_bus.velocity.std()\n",
        "\n",
        "car_velocity_max = df_car.velocity.max()\n",
        "car_acceleration_max = df_car.acceleration.max()\n",
        "car_acceleration_min = df_car.acceleration.min()\n",
        "car_acceleration_mean = df_car.acceleration.mean()\n",
        "car_velocity_mean = df_car.velocity.mean()\n",
        "car_acceleration_std = df_car.acceleration.std()\n",
        "car_velocity_std = df_car.velocity.std()\n",
        "\n",
        "train_velocity_max = df_train.velocity.max()\n",
        "train_acceleration_max = df_train.acceleration.max()\n",
        "train_acceleration_min = df_train.acceleration.min()\n",
        "train_acceleration_mean = df_train.acceleration.mean()\n",
        "train_velocity_mean = df_train.velocity.mean()\n",
        "train_acceleration_std = df_train.acceleration.std()\n",
        "train_velocity_std = df_train.velocity.std()\n",
        "\n",
        "subway_velocity_max = df_subway.velocity.max()\n",
        "subway_acceleration_max = df_subway.acceleration.max()\n",
        "subway_acceleration_min = df_subway.acceleration.min()\n",
        "subway_acceleration_mean = df_subway.acceleration.mean()\n",
        "subway_velocity_mean = df_subway.velocity.mean()\n",
        "subway_acceleration_std = df_subway.acceleration.std()\n",
        "subway_velocity_std = df_subway.velocity.std()\n",
        "\n",
        "print('max velocity in walk dataframe :' , walk_velocity_max , '\\n' , 'max acceleration in walk dataframe :' , walk_acceleration_max , '\\n' ,\n",
        "       'min acceleration in walk dataframe :' , walk_acceleration_min)\n",
        "print('max velocity in bike dataframe :' , bike_velocity_max , '\\n' , 'max acceleration in bike dataframe :' , bike_acceleration_max , '\\n' ,\n",
        "       'min acceleration in walk dataframe :' , bike_acceleration_min)\n",
        "print('max velocity in bus dataframe :' , bus_velocity_max , '\\n' , 'max acceleration in bus dataframe :' , bus_acceleration_max , '\\n' ,\n",
        "       'min acceleration in walk dataframe :' , bus_acceleration_min)\n",
        "print('max velocity in car dataframe :' , car_velocity_max , '\\n' , 'max acceleration in car dataframe :' , car_acceleration_max , '\\n' ,\n",
        "       'min acceleration in walk dataframe :' , car_acceleration_min)\n",
        "print('max velocity in train dataframe :' , train_velocity_max , '\\n' , 'max acceleration in train dataframe :' , train_acceleration_max , '\\n' ,\n",
        "       'min acceleration in walk dataframe :' , train_acceleration_min)\n",
        "print('max velocity in subway dataframe :' , subway_velocity_max , '\\n' , 'max acceleration in subway dataframe :' , subway_acceleration_max , '\\n' ,\n",
        "       'min acceleration in walk dataframe :' , subway_acceleration_min)"
      ],
      "metadata": {
        "colab": {
          "base_uri": "https://localhost:8080/"
        },
        "id": "RshKb8KASUpf",
        "outputId": "be58aefb-2b11-4b20-a86c-8969c1da4818"
      },
      "execution_count": null,
      "outputs": [
        {
          "output_type": "stream",
          "name": "stdout",
          "text": [
            "max velocity in walk dataframe : 3.438817456063122 \n",
            " max acceleration in walk dataframe : 1.1715463050514603 \n",
            " min acceleration in walk dataframe : -1.1328358089923452\n",
            "max velocity in bike dataframe : 6.775867444683232 \n",
            " max acceleration in bike dataframe : 1.90441560596544 \n",
            " min acceleration in walk dataframe : -1.8709322999078557\n",
            "max velocity in bus dataframe : 16.477411372594517 \n",
            " max acceleration in bus dataframe : 1.589891706813752 \n",
            " min acceleration in walk dataframe : -1.636691798496014\n",
            "max velocity in car dataframe : 29.651607230964803 \n",
            " max acceleration in car dataframe : 1.8583085837877515 \n",
            " min acceleration in walk dataframe : -1.9202864581849648\n",
            "max velocity in train dataframe : 36.70827801315609 \n",
            " max acceleration in train dataframe : 1.295547026663865 \n",
            " min acceleration in walk dataframe : -1.311856733868959\n",
            "max velocity in subway dataframe : 22.015673274119678 \n",
            " max acceleration in subway dataframe : 1.4504555791723297 \n",
            " min acceleration in walk dataframe : -1.5073652548512868\n"
          ]
        }
      ]
    },
    {
      "cell_type": "markdown",
      "source": [
        "### **Velocity**"
      ],
      "metadata": {
        "id": "9L87xO4g0KQM"
      }
    },
    {
      "cell_type": "code",
      "source": [
        "import matplotlib.pyplot as plt\n",
        "import numpy as np\n",
        "\n",
        "class_list = [\"walk\", \"bike\", \"bus\", \"car\", \"train\", \"subway\"]\n",
        "velocity_max_list = [walk_velocity_max, bike_velocity_max, bus_velocity_max, car_velocity_max, train_velocity_max, subway_velocity_max]\n",
        "velocity_mean_list = [walk_velocity_mean, bike_velocity_mean, bus_velocity_mean, car_velocity_mean, train_velocity_mean, subway_velocity_mean]\n",
        "velocity_std_list = [walk_velocity_std, bike_velocity_std, bus_velocity_std, car_velocity_std, train_velocity_std, subway_velocity_std]\n",
        "\n",
        "x = np.array(class_list)\n",
        "y = np.array(velocity_max_list)\n",
        "plt.subplot(1, 3, 1)\n",
        "plt.title('Max velocity')\n",
        "plt.barh(x,y, color=\"hotpink\")\n",
        "\n",
        "x = np.array(class_list)\n",
        "y = np.array(velocity_mean_list)\n",
        "plt.subplot(1, 3, 2)\n",
        "plt.title('Mean velocity')\n",
        "plt.barh(x,y)\n",
        "\n",
        "x = np.array(class_list)\n",
        "y = np.array(velocity_std_list)\n",
        "plt.subplot(1, 3, 3)\n",
        "plt.title('std velocity')\n",
        "plt.barh(x,y)\n",
        "\n",
        "plt.show()"
      ],
      "metadata": {
        "colab": {
          "base_uri": "https://localhost:8080/",
          "height": 281
        },
        "id": "IwwCxzAr8BOd",
        "outputId": "51ef1d10-a1cc-49da-9034-f74add1858da"
      },
      "execution_count": null,
      "outputs": [
        {
          "output_type": "display_data",
          "data": {
            "text/plain": [
              "<Figure size 432x288 with 3 Axes>"
            ],
            "image/png": "[encoded data removed]"
          },
          "metadata": {
            "needs_background": "light"
          }
        }
      ]
    },
    {
      "cell_type": "markdown",
      "source": [
        "### **Acceleration**"
      ],
      "metadata": {
        "id": "El9e2W5T0cv5"
      }
    },
    {
      "cell_type": "code",
      "source": [
        "acceleration_max_list = [walk_acceleration_max, bike_acceleration_max, bus_acceleration_max, car_acceleration_max, train_acceleration_max, subway_acceleration_max]\n",
        "acceleration_min_list = [walk_acceleration_min, bike_acceleration_min, bus_acceleration_min, car_acceleration_min, train_acceleration_min, subway_acceleration_min]\n",
        "acceleration_mean_list = [walk_acceleration_mean, bike_acceleration_mean, bus_acceleration_mean, car_acceleration_mean, train_acceleration_mean, subway_acceleration_mean]\n",
        "acceleration_std_list = [walk_acceleration_std, bike_acceleration_std, bus_acceleration_std, car_acceleration_std, train_acceleration_std, subway_acceleration_std]\n",
        "\n",
        "x = np.array(class_list)\n",
        "y = np.array(acceleration_max_list)\n",
        "plt.subplot(1, 3, 1)\n",
        "plt.barh(x,y, color ='green')\n",
        "\n",
        "x = np.array(class_list)\n",
        "y = np.array(acceleration_min_list)\n",
        "plt.plot()\n",
        "plt.barh(x,y)\n",
        "plt.title(\"Max & Min Acceleration\")\n",
        "\n",
        "x = np.array(class_list)\n",
        "y = np.array(acceleration_mean_list)\n",
        "plt.subplot(1, 3, 2)\n",
        "plt.barh(x,y, color ='purple')\n",
        "plt.title('Mean Acceleration')\n",
        "\n",
        "x = np.array(class_list)\n",
        "y = np.array(acceleration_std_list)\n",
        "plt.subplot(1, 3, 3)\n",
        "plt.barh(x,y, color ='gray')\n",
        "plt.title('std Acceleration')\n",
        "\n",
        "plt.show()"
      ],
      "metadata": {
        "colab": {
          "base_uri": "https://localhost:8080/",
          "height": 281
        },
        "id": "aCGIG_pBDtUX",
        "outputId": "5fd904df-0e7e-4373-c707-4084977bb1fd"
      },
      "execution_count": null,
      "outputs": [
        {
          "output_type": "display_data",
          "data": {
            "text/plain": [
              "<Figure size 432x288 with 3 Axes>"
            ],
            "image/png": "[encoded data removed]"
          },
          "metadata": {
            "needs_background": "light"
          }
        }
      ]
    },
    {
      "cell_type": "markdown",
      "source": [
        "# **Merging all of dataframes after removing outliers**"
      ],
      "metadata": {
        "id": "keczFPCJP386"
      }
    },
    {
      "cell_type": "code",
      "source": [
        "from functools import reduce\n",
        "\n",
        "data_frames = [df_walk, df_bike, df_train, df_subway, df_bus, df_car]\n",
        "\n",
        "df_merged = pd.concat([df_walk, df_bike, df_train, df_subway, df_bus, df_car])"
      ],
      "metadata": {
        "id": "kTyEvuQJtxJ_"
      },
      "execution_count": null,
      "outputs": []
    },
    {
      "cell_type": "code",
      "source": [
        "after_outlier = len(df_merged.index.unique())\n",
        "print('Our dataframe decrease to' , after_outlier, 'from', before_outlier)\n"
      ],
      "metadata": {
        "colab": {
          "base_uri": "https://localhost:8080/"
        },
        "id": "dL0SrpKuSybO",
        "outputId": "2ae24488-bb8b-420a-87f1-6fc436313518"
      },
      "execution_count": null,
      "outputs": [
        {
          "output_type": "stream",
          "name": "stdout",
          "text": [
            "Our dataframe decrease to 21258 from 21991\n"
          ]
        }
      ]
    }
  ]
}